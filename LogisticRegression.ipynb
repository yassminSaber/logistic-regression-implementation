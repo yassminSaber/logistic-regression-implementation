{
 "cells": [
  {
   "cell_type": "code",
   "execution_count": 27,
   "metadata": {},
   "outputs": [],
   "source": [
    "import numpy as np\n",
    "import pandas as pd\n",
    "import math\n",
    "from sklearn.model_selection import train_test_split\n",
    "from sklearn.datasets import make_classification\n",
    "import copy\n",
    "from sklearn.metrics import accuracy_score"
   ]
  },
  {
   "cell_type": "markdown",
   "metadata": {},
   "source": [
    "# Step 1: Creating Dumy Dataset "
   ]
  },
  {
   "cell_type": "code",
   "execution_count": 28,
   "metadata": {},
   "outputs": [],
   "source": [
    "x,y = make_classification(n_features=4,n_classes=2)\n",
    "X_train_dumy,X_test_dumy,y_train_dumy,y_test_dumy = train_test_split(x,y,test_size=0.1)"
   ]
  },
  {
   "cell_type": "markdown",
   "metadata": {},
   "source": [
    "# Step 2: Standardization"
   ]
  },
  {
   "cell_type": "code",
   "execution_count": 29,
   "metadata": {},
   "outputs": [],
   "source": [
    "def Zscore_standarize_function(x):\n",
    "    mu = np.mean(x,axis =0)\n",
    "    sigma = np.std(x,axis=0)\n",
    "    \n",
    "    x_norm = (x-mu)/sigma\n",
    "    \n",
    "    return x_norm"
   ]
  },
  {
   "cell_type": "code",
   "execution_count": 30,
   "metadata": {},
   "outputs": [],
   "source": [
    "X_test_dumy = Zscore_standarize_function(X_test_dumy)\n",
    "X_train_dumy = Zscore_standarize_function(X_train_dumy)"
   ]
  },
  {
   "cell_type": "markdown",
   "metadata": {},
   "source": [
    "# Step 3: Initializing Parameters"
   ]
  },
  {
   "cell_type": "code",
   "execution_count": 31,
   "metadata": {},
   "outputs": [
    {
     "name": "stdout",
     "output_type": "stream",
     "text": [
      "number of features: 4\n",
      "number of samples: 100\n"
     ]
    }
   ],
   "source": [
    "n , m = x.shape\n",
    "\n",
    "print('number of features:',m)\n",
    "print('number of samples:',n)\n",
    "\n",
    "w_tmp_dumy = np.random.rand(4,)\n",
    "b_tmp_dumy= np.random.randint(1)\n",
    "lr_dumy = 0.001\n",
    "num_iters_dumy = 1000\n"
   ]
  },
  {
   "cell_type": "markdown",
   "metadata": {},
   "source": [
    "# Step 4: Some Functions needed for fitting the algorithm"
   ]
  },
  {
   "cell_type": "code",
   "execution_count": 32,
   "metadata": {},
   "outputs": [],
   "source": [
    "#Sigmoid Function\n",
    "\n",
    "def sigmoid(z):\n",
    "    g = 1/(1 + np.exp(-z))\n",
    "    \n",
    "    return g\n",
    "\n",
    "\n",
    "#Cost Function\n",
    "\n",
    "def compute_logistic_cost_function(x,y,w,b):\n",
    "    m= x.shape[0]\n",
    "    \n",
    "    cost = 0\n",
    "    for i in range(m):\n",
    "        z = np.dot(x[i],w)+b\n",
    "        f = sigmoid(z)\n",
    "        cost += -y[i]*np.log(f) - (1-y[i])*np.log(1-f)\n",
    "    \n",
    "    cost = cost/m\n",
    "    return cost"
   ]
  },
  {
   "cell_type": "markdown",
   "metadata": {},
   "source": [
    "# Step 5: Fitting the Algorithm using Gradient Descent "
   ]
  },
  {
   "cell_type": "code",
   "execution_count": 33,
   "metadata": {},
   "outputs": [],
   "source": [
    "def compute_gradient_logistic(X, y, w, b): \n",
    "    m,n = X.shape\n",
    "    dj_dw = np.zeros((n,))                           \n",
    "    dj_db = 0.\n",
    "\n",
    "    for i in range(m):\n",
    "        f_wb_i = sigmoid(np.dot(X[i],w) + b)          \n",
    "        err_i  = f_wb_i  - y[i]                       \n",
    "        for j in range(n):\n",
    "            dj_dw[j] = dj_dw[j] + err_i * X[i,j]      \n",
    "        dj_db = dj_db + err_i\n",
    "    dj_dw = dj_dw/m                                   \n",
    "    dj_db = dj_db/m                                  \n",
    "        \n",
    "    return dj_db, dj_dw  \n",
    "\n",
    "def gradient_descent(X, y, w_in, b_in, alpha, num_iters): \n",
    "    J_history = []\n",
    "    w = copy.deepcopy(w_in)  \n",
    "    b = b_in\n",
    "    \n",
    "    for i in range(num_iters):\n",
    "        dj_db, dj_dw = compute_gradient_logistic(X, y, w, b)   \n",
    "\n",
    "        w = w - alpha * dj_dw               \n",
    "        b = b - alpha * dj_db               \n",
    "      \n",
    "        if i<100000:      # prevent resource exhaustion \n",
    "            J_history.append( compute_logistic_cost_function(X, y, w, b) )\n",
    "\n",
    "        if i% math.ceil(num_iters / 10) == 0:\n",
    "            print(f\"Iteration {i:4d}: Cost {J_history[-1]}   \")\n",
    "        \n",
    "    return w, b, J_history         "
   ]
  },
  {
   "cell_type": "code",
   "execution_count": 34,
   "metadata": {},
   "outputs": [
    {
     "name": "stdout",
     "output_type": "stream",
     "text": [
      "Iteration    0: Cost 0.9041044371546386   \n",
      "Iteration  100: Cost 0.8622888576679208   \n",
      "Iteration  200: Cost 0.823482877640195   \n",
      "Iteration  300: Cost 0.7876210332471498   \n",
      "Iteration  400: Cost 0.7546092313483208   \n",
      "Iteration  500: Cost 0.724328354909744   \n",
      "Iteration  600: Cost 0.6966386778886507   \n",
      "Iteration  700: Cost 0.6713848057351323   \n",
      "Iteration  800: Cost 0.6484008152477022   \n",
      "Iteration  900: Cost 0.627515263555542   \n",
      "\n",
      "updated parameters: w:[0.61648149 0.72113495 0.60491557 0.62875885], b:0.012174224903258877\n"
     ]
    }
   ],
   "source": [
    "w_out_dumy , b_out_dumy , _ = gradient_descent(X_train_dumy,y_train_dumy,w_tmp_dumy,b_tmp_dumy,lr_dumy , num_iters_dumy)\n",
    "print(f\"\\nupdated parameters: w:{w_out_dumy}, b:{b_out_dumy}\")"
   ]
  },
  {
   "cell_type": "markdown",
   "metadata": {},
   "source": [
    "# Step 6: Prediction"
   ]
  },
  {
   "cell_type": "code",
   "execution_count": 35,
   "metadata": {},
   "outputs": [],
   "source": [
    "def predict(X, w, b) :\n",
    "    m, n = X.shape\n",
    "    p = np.zeros(m)    \n",
    "    for i in range(m) :\n",
    "        f_wb = sigmoid(np.dot(X[i], w) + b)\n",
    "        p[i] = 1 if f_wb > 0.5 else 0\n",
    "    return p"
   ]
  },
  {
   "cell_type": "code",
   "execution_count": 36,
   "metadata": {},
   "outputs": [
    {
     "name": "stdout",
     "output_type": "stream",
     "text": [
      "Test Accuracy = 90.0\n",
      "Train Accuracy: 70.000000\n"
     ]
    }
   ],
   "source": [
    "y_pred_dumy = predict(X_test_dumy,w_out_dumy,b_out_dumy)\n",
    "print(f\"Test Accuracy = {accuracy_score(y_test_dumy, y_pred_dumy) * 100}\") \n",
    "\n",
    "Y_pred2 = predict(X_train_dumy,w_out_dumy,b_out_dumy)\n",
    "print('Train Accuracy: %f'%(np.mean(Y_pred2 == y_train_dumy) * 100))"
   ]
  },
  {
   "cell_type": "markdown",
   "metadata": {},
   "source": [
    "# Step 7: Apply on Real dataset"
   ]
  },
  {
   "cell_type": "code",
   "execution_count": 37,
   "metadata": {},
   "outputs": [
    {
     "data": {
      "text/html": [
       "<div>\n",
       "<style scoped>\n",
       "    .dataframe tbody tr th:only-of-type {\n",
       "        vertical-align: middle;\n",
       "    }\n",
       "\n",
       "    .dataframe tbody tr th {\n",
       "        vertical-align: top;\n",
       "    }\n",
       "\n",
       "    .dataframe thead th {\n",
       "        text-align: right;\n",
       "    }\n",
       "</style>\n",
       "<table border=\"1\" class=\"dataframe\">\n",
       "  <thead>\n",
       "    <tr style=\"text-align: right;\">\n",
       "      <th></th>\n",
       "      <th>male</th>\n",
       "      <th>age</th>\n",
       "      <th>education</th>\n",
       "      <th>currentSmoker</th>\n",
       "      <th>cigsPerDay</th>\n",
       "      <th>BPMeds</th>\n",
       "      <th>prevalentStroke</th>\n",
       "      <th>prevalentHyp</th>\n",
       "      <th>diabetes</th>\n",
       "      <th>totChol</th>\n",
       "      <th>sysBP</th>\n",
       "      <th>diaBP</th>\n",
       "      <th>BMI</th>\n",
       "      <th>heartRate</th>\n",
       "      <th>glucose</th>\n",
       "      <th>TenYearCHD</th>\n",
       "    </tr>\n",
       "  </thead>\n",
       "  <tbody>\n",
       "    <tr>\n",
       "      <th>0</th>\n",
       "      <td>1</td>\n",
       "      <td>39</td>\n",
       "      <td>4.0</td>\n",
       "      <td>0</td>\n",
       "      <td>0.0</td>\n",
       "      <td>0.0</td>\n",
       "      <td>0</td>\n",
       "      <td>0</td>\n",
       "      <td>0</td>\n",
       "      <td>195.0</td>\n",
       "      <td>106.0</td>\n",
       "      <td>70.0</td>\n",
       "      <td>26.97</td>\n",
       "      <td>80.0</td>\n",
       "      <td>77.0</td>\n",
       "      <td>0</td>\n",
       "    </tr>\n",
       "    <tr>\n",
       "      <th>1</th>\n",
       "      <td>0</td>\n",
       "      <td>46</td>\n",
       "      <td>2.0</td>\n",
       "      <td>0</td>\n",
       "      <td>0.0</td>\n",
       "      <td>0.0</td>\n",
       "      <td>0</td>\n",
       "      <td>0</td>\n",
       "      <td>0</td>\n",
       "      <td>250.0</td>\n",
       "      <td>121.0</td>\n",
       "      <td>81.0</td>\n",
       "      <td>28.73</td>\n",
       "      <td>95.0</td>\n",
       "      <td>76.0</td>\n",
       "      <td>0</td>\n",
       "    </tr>\n",
       "    <tr>\n",
       "      <th>2</th>\n",
       "      <td>1</td>\n",
       "      <td>48</td>\n",
       "      <td>1.0</td>\n",
       "      <td>1</td>\n",
       "      <td>20.0</td>\n",
       "      <td>0.0</td>\n",
       "      <td>0</td>\n",
       "      <td>0</td>\n",
       "      <td>0</td>\n",
       "      <td>245.0</td>\n",
       "      <td>127.5</td>\n",
       "      <td>80.0</td>\n",
       "      <td>25.34</td>\n",
       "      <td>75.0</td>\n",
       "      <td>70.0</td>\n",
       "      <td>0</td>\n",
       "    </tr>\n",
       "    <tr>\n",
       "      <th>3</th>\n",
       "      <td>0</td>\n",
       "      <td>61</td>\n",
       "      <td>3.0</td>\n",
       "      <td>1</td>\n",
       "      <td>30.0</td>\n",
       "      <td>0.0</td>\n",
       "      <td>0</td>\n",
       "      <td>1</td>\n",
       "      <td>0</td>\n",
       "      <td>225.0</td>\n",
       "      <td>150.0</td>\n",
       "      <td>95.0</td>\n",
       "      <td>28.58</td>\n",
       "      <td>65.0</td>\n",
       "      <td>103.0</td>\n",
       "      <td>1</td>\n",
       "    </tr>\n",
       "    <tr>\n",
       "      <th>4</th>\n",
       "      <td>0</td>\n",
       "      <td>46</td>\n",
       "      <td>3.0</td>\n",
       "      <td>1</td>\n",
       "      <td>23.0</td>\n",
       "      <td>0.0</td>\n",
       "      <td>0</td>\n",
       "      <td>0</td>\n",
       "      <td>0</td>\n",
       "      <td>285.0</td>\n",
       "      <td>130.0</td>\n",
       "      <td>84.0</td>\n",
       "      <td>23.10</td>\n",
       "      <td>85.0</td>\n",
       "      <td>85.0</td>\n",
       "      <td>0</td>\n",
       "    </tr>\n",
       "  </tbody>\n",
       "</table>\n",
       "</div>"
      ],
      "text/plain": [
       "   male  age  education  currentSmoker  cigsPerDay  BPMeds  prevalentStroke  \\\n",
       "0     1   39        4.0              0         0.0     0.0                0   \n",
       "1     0   46        2.0              0         0.0     0.0                0   \n",
       "2     1   48        1.0              1        20.0     0.0                0   \n",
       "3     0   61        3.0              1        30.0     0.0                0   \n",
       "4     0   46        3.0              1        23.0     0.0                0   \n",
       "\n",
       "   prevalentHyp  diabetes  totChol  sysBP  diaBP    BMI  heartRate  glucose  \\\n",
       "0             0         0    195.0  106.0   70.0  26.97       80.0     77.0   \n",
       "1             0         0    250.0  121.0   81.0  28.73       95.0     76.0   \n",
       "2             0         0    245.0  127.5   80.0  25.34       75.0     70.0   \n",
       "3             1         0    225.0  150.0   95.0  28.58       65.0    103.0   \n",
       "4             0         0    285.0  130.0   84.0  23.10       85.0     85.0   \n",
       "\n",
       "   TenYearCHD  \n",
       "0           0  \n",
       "1           0  \n",
       "2           0  \n",
       "3           1  \n",
       "4           0  "
      ]
     },
     "execution_count": 37,
     "metadata": {},
     "output_type": "execute_result"
    }
   ],
   "source": [
    "dataset = pd.read_csv('framingham.csv')\n",
    "dataset.head()"
   ]
  },
  {
   "cell_type": "code",
   "execution_count": 38,
   "metadata": {},
   "outputs": [
    {
     "name": "stdout",
     "output_type": "stream",
     "text": [
      "male                 0\n",
      "age                  0\n",
      "education          105\n",
      "currentSmoker        0\n",
      "cigsPerDay          29\n",
      "BPMeds              53\n",
      "prevalentStroke      0\n",
      "prevalentHyp         0\n",
      "diabetes             0\n",
      "totChol             50\n",
      "sysBP                0\n",
      "diaBP                0\n",
      "BMI                 19\n",
      "heartRate            1\n",
      "glucose            388\n",
      "TenYearCHD           0\n",
      "dtype: int64\n",
      "(4238, 16)\n"
     ]
    }
   ],
   "source": [
    "# check for null values\n",
    "print(dataset.isnull().sum())\n",
    "print(dataset.shape)"
   ]
  },
  {
   "cell_type": "markdown",
   "metadata": {},
   "source": [
    "### fill the null values"
   ]
  },
  {
   "cell_type": "code",
   "execution_count": 39,
   "metadata": {},
   "outputs": [
    {
     "data": {
      "text/plain": [
       "male               0\n",
       "age                0\n",
       "education          0\n",
       "currentSmoker      0\n",
       "cigsPerDay         0\n",
       "BPMeds             0\n",
       "prevalentStroke    0\n",
       "prevalentHyp       0\n",
       "diabetes           0\n",
       "totChol            0\n",
       "sysBP              0\n",
       "diaBP              0\n",
       "BMI                0\n",
       "heartRate          0\n",
       "glucose            0\n",
       "TenYearCHD         0\n",
       "dtype: int64"
      ]
     },
     "execution_count": 39,
     "metadata": {},
     "output_type": "execute_result"
    }
   ],
   "source": [
    "mean_eduacation  = dataset['education'].mean()\n",
    "dataset['education'].fillna(value=mean_eduacation,inplace=True)\n",
    "\n",
    "dataset['cigsPerDay'].fillna(value=0.0,inplace=True)\n",
    "\n",
    "np.random.seed(3)\n",
    "dataset['BPMeds'].fillna(value=np.random.randint(0,2), inplace=True)\n",
    "\n",
    "mean_totchol = dataset['totChol'].mean()\n",
    "dataset['totChol'].fillna(value=mean_totchol,inplace=True)\n",
    "\n",
    "mean_eduacation  = dataset['BMI'].mean()\n",
    "dataset['BMI'].fillna(value=mean_eduacation,inplace=True)\n",
    "\n",
    "mean_eduacation  = dataset['glucose'].mean()\n",
    "dataset['glucose'].fillna(value=mean_eduacation,inplace=True)\n",
    "\n",
    "mean_value_rate = dataset['heartRate'].mean()\n",
    "dataset['heartRate'].fillna(value=mean_value_rate, inplace=True)\n",
    "\n",
    "dataset.isnull().sum()\n"
   ]
  },
  {
   "cell_type": "code",
   "execution_count": 40,
   "metadata": {},
   "outputs": [],
   "source": [
    "y = dataset['TenYearCHD']\n",
    "X = dataset.drop('TenYearCHD', axis = 1)\n",
    "X = X.to_numpy()\n",
    "y = y.to_numpy()"
   ]
  },
  {
   "cell_type": "code",
   "execution_count": 41,
   "metadata": {},
   "outputs": [],
   "source": [
    "# normalization\n",
    "x = Zscore_standarize_function(X)\n",
    "\n",
    "x_train,x_test,y_train,y_test = train_test_split(X,y,test_size=0.1)"
   ]
  },
  {
   "cell_type": "code",
   "execution_count": 42,
   "metadata": {},
   "outputs": [
    {
     "name": "stdout",
     "output_type": "stream",
     "text": [
      "number of features: 15\n",
      "number of samples: 4238\n"
     ]
    }
   ],
   "source": [
    "## initializing parameters \n",
    "n , m = x.shape\n",
    "\n",
    "print('number of features:',m)\n",
    "print('number of samples:',n)\n",
    "\n",
    "w_tmp = np.random.rand(15,)\n",
    "b_tmp = np.random.randint(1)\n",
    "lr = 0.001\n",
    "num_iters = 1000\n"
   ]
  },
  {
   "cell_type": "markdown",
   "metadata": {},
   "source": [
    "### fit the model"
   ]
  },
  {
   "cell_type": "code",
   "execution_count": 43,
   "metadata": {},
   "outputs": [
    {
     "name": "stdout",
     "output_type": "stream",
     "text": [
      "Iteration    0: Cost nan   \n"
     ]
    },
    {
     "name": "stderr",
     "output_type": "stream",
     "text": [
      "C:\\Users\\yasme\\AppData\\Local\\Temp\\ipykernel_13216\\2945360839.py:18: RuntimeWarning: divide by zero encountered in log\n",
      "  cost += -y[i]*np.log(f) - (1-y[i])*np.log(1-f)\n",
      "C:\\Users\\yasme\\AppData\\Local\\Temp\\ipykernel_13216\\2945360839.py:18: RuntimeWarning: invalid value encountered in double_scalars\n",
      "  cost += -y[i]*np.log(f) - (1-y[i])*np.log(1-f)\n"
     ]
    },
    {
     "name": "stdout",
     "output_type": "stream",
     "text": [
      "Iteration  100: Cost 1.1766692429500234   \n",
      "Iteration  200: Cost 4.065935715328967   \n",
      "Iteration  300: Cost 2.8551401691100353   \n",
      "Iteration  400: Cost 5.9671799310727405   \n",
      "Iteration  500: Cost 2.3489462446601186   \n",
      "Iteration  600: Cost 0.8091376047197567   \n",
      "Iteration  700: Cost 3.5299625806634127   \n",
      "Iteration  800: Cost 9.423100637497322   \n",
      "Iteration  900: Cost 1.2162822089283933   \n",
      "\n",
      "updated parameters: w:[ 0.31708515  0.14398034  0.07797935  0.48733481  0.07520919  0.49418045\n",
      "  0.30931967  0.86478449  0.37480672 -0.07674173  0.09403801 -0.20845362\n",
      "  0.14774636 -0.16381149  0.02088486], b:-0.011919414348499498\n"
     ]
    }
   ],
   "source": [
    "w_out , b_out , _ = gradient_descent(x_train,y_train,w_tmp,b_tmp,lr,num_iters)\n",
    "print(f\"\\nupdated parameters: w:{w_out}, b:{b_out}\")"
   ]
  },
  {
   "cell_type": "markdown",
   "metadata": {},
   "source": [
    "### predict"
   ]
  },
  {
   "cell_type": "code",
   "execution_count": 44,
   "metadata": {},
   "outputs": [
    {
     "name": "stdout",
     "output_type": "stream",
     "text": [
      "Test Accuracy = 83.9622641509434\n",
      "Train Accuracy: 84.897745\n"
     ]
    }
   ],
   "source": [
    "y_pred = predict(x_test,w_out,b_out)\n",
    "print(f\"Test Accuracy = {accuracy_score(y_test, y_pred) * 100}\") \n",
    "\n",
    "Y_pred2 = predict(x_train,w_out,b_out)\n",
    "print('Train Accuracy: %f'%(np.mean(Y_pred2 == y_train) * 100))"
   ]
  }
 ],
 "metadata": {
  "kernelspec": {
   "display_name": "Python 3.10.8 64-bit",
   "language": "python",
   "name": "python3"
  },
  "language_info": {
   "codemirror_mode": {
    "name": "ipython",
    "version": 3
   },
   "file_extension": ".py",
   "mimetype": "text/x-python",
   "name": "python",
   "nbconvert_exporter": "python",
   "pygments_lexer": "ipython3",
   "version": "3.10.8"
  },
  "orig_nbformat": 4,
  "vscode": {
   "interpreter": {
    "hash": "59d47c279002dece9369d3ec104f5194addc14c635d4801df159bd4deb836c57"
   }
  }
 },
 "nbformat": 4,
 "nbformat_minor": 2
}
